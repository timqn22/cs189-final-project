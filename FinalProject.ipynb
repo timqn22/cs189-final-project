{
 "cells": [
  {
   "cell_type": "markdown",
   "id": "f9908e8d-a62c-482d-ba9d-532f0f3d3ce4",
   "metadata": {},
   "source": [
    "# CS189 Final Project\n",
    "Timothy Quang Nguyen\n",
    "\n",
    "timotqn2@uci.edu"
   ]
  },
  {
   "cell_type": "code",
   "execution_count": null,
   "id": "1383ce3c-ea1e-4eee-a236-fd817630449c",
   "metadata": {},
   "outputs": [],
   "source": []
  }
 ],
 "metadata": {
  "kernelspec": {
   "display_name": "Python 3 (ipykernel)",
   "language": "python",
   "name": "python3"
  },
  "language_info": {
   "codemirror_mode": {
    "name": "ipython",
    "version": 3
   },
   "file_extension": ".py",
   "mimetype": "text/x-python",
   "name": "python",
   "nbconvert_exporter": "python",
   "pygments_lexer": "ipython3",
   "version": "3.12.9"
  }
 },
 "nbformat": 4,
 "nbformat_minor": 5
}
